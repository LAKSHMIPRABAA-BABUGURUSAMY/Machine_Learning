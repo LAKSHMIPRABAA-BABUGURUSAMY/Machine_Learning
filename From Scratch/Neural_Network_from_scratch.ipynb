{
  "nbformat": 4,
  "nbformat_minor": 0,
  "metadata": {
    "colab": {
      "provenance": [],
      "authorship_tag": "ABX9TyOHgxKHVIgCLXHwy5G17d4q",
      "include_colab_link": true
    },
    "kernelspec": {
      "name": "python3",
      "display_name": "Python 3"
    },
    "language_info": {
      "name": "python"
    }
  },
  "cells": [
    {
      "cell_type": "markdown",
      "metadata": {
        "id": "view-in-github",
        "colab_type": "text"
      },
      "source": [
        "<a href=\"https://colab.research.google.com/github/LAKSHMIPRABAA-BABUGURUSAMY/Machine_Learning/blob/main/Neural_Network_from_scratch.ipynb\" target=\"_parent\"><img src=\"https://colab.research.google.com/assets/colab-badge.svg\" alt=\"Open In Colab\"/></a>"
      ]
    },
    {
      "cell_type": "code",
      "source": [
        "import numpy as np\n",
        "from sklearn import datasets\n",
        "from sklearn.datasets import load_iris\n",
        "from sklearn.model_selection import train_test_split\n",
        "from sklearn.preprocessing import OneHotEncoder"
      ],
      "metadata": {
        "id": "FSTgvGLsctZC"
      },
      "execution_count": null,
      "outputs": []
    },
    {
      "cell_type": "code",
      "source": [
        "iris = datasets.load_iris()\n",
        "X = iris.data\n",
        "y = iris.target.reshape(-1,1)"
      ],
      "metadata": {
        "id": "q1A-hhKmctV8"
      },
      "execution_count": null,
      "outputs": []
    },
    {
      "cell_type": "code",
      "source": [
        "encoder = OneHotEncoder(sparse=False)\n",
        "y_one_hot = encoder.fit_transform(y)"
      ],
      "metadata": {
        "colab": {
          "base_uri": "https://localhost:8080/"
        },
        "id": "5MwCZf9TctSi",
        "outputId": "cd085514-ba36-4aa7-8220-b5020ea7324a"
      },
      "execution_count": null,
      "outputs": [
        {
          "output_type": "stream",
          "name": "stderr",
          "text": [
            "/usr/local/lib/python3.10/dist-packages/sklearn/preprocessing/_encoders.py:868: FutureWarning: `sparse` was renamed to `sparse_output` in version 1.2 and will be removed in 1.4. `sparse_output` is ignored unless you leave `sparse` to its default value.\n",
            "  warnings.warn(\n"
          ]
        }
      ]
    },
    {
      "cell_type": "code",
      "source": [
        "X = (X - X.mean(axis=0)) / X.std(axis=0)"
      ],
      "metadata": {
        "id": "hi9y6YDwctPa"
      },
      "execution_count": null,
      "outputs": []
    },
    {
      "cell_type": "code",
      "source": [
        "X_train, X_test, y_train, y_test = train_test_split(X, y_one_hot, test_size=0.2, random_state=0)"
      ],
      "metadata": {
        "id": "yBUsxrZ6ctML"
      },
      "execution_count": null,
      "outputs": []
    },
    {
      "cell_type": "code",
      "source": [
        "input_size = X.shape[1]\n",
        "hidden_size = 3\n",
        "output_size = y_one_hot.shape[1]\n",
        "learning_rate = 0.1\n",
        "epochs = 5000"
      ],
      "metadata": {
        "id": "og8UK2PPctI2"
      },
      "execution_count": null,
      "outputs": []
    },
    {
      "cell_type": "code",
      "source": [
        "np.random.seed(0)\n",
        "weights_input_hidden = np.random.randn(input_size, hidden_size)\n",
        "bias_hidden = np.zeros((1, hidden_size))\n",
        "weights_hidden_output = np.random.randn(hidden_size, output_size)\n",
        "bias_output = np.zeros((1, output_size))"
      ],
      "metadata": {
        "id": "Y-44VgzFctCt"
      },
      "execution_count": null,
      "outputs": []
    },
    {
      "cell_type": "code",
      "source": [
        "def sigmoid(x):\n",
        "    return 1 / (1 + np.exp(-x))"
      ],
      "metadata": {
        "id": "QP5PBBJecs6d"
      },
      "execution_count": null,
      "outputs": []
    },
    {
      "cell_type": "code",
      "source": [
        "def sigmoid_derivative(x):\n",
        "    return x * (1 - x)"
      ],
      "metadata": {
        "id": "f9GUVHcUcsvk"
      },
      "execution_count": null,
      "outputs": []
    },
    {
      "cell_type": "code",
      "source": [
        "for epoch in range(epochs):\n",
        "    # Forward propagation\n",
        "    hidden_layer_input = np.dot(X_train, weights_input_hidden) + bias_hidden\n",
        "    hidden_layer_output = sigmoid(hidden_layer_input)\n",
        "    output_layer_input = np.dot(hidden_layer_output, weights_hidden_output) + bias_output\n",
        "    output_layer_output = sigmoid(output_layer_input)\n",
        "    # Backpropagation\n",
        "    error = y_train - output_layer_output\n",
        "    d_output = error * sigmoid_derivative(output_layer_output)\n",
        "    error_hidden = d_output.dot(weights_hidden_output.T)\n",
        "    d_hidden = error_hidden * sigmoid_derivative(hidden_layer_output)\n",
        "    # Updating weights and biases\n",
        "    weights_hidden_output += hidden_layer_output.T.dot(d_output) * learning_rate\n",
        "    bias_output += np.sum(d_output, axis=0, keepdims=True) * learning_rate\n",
        "    weights_input_hidden += X_train.T.dot(d_hidden) * learning_rate\n",
        "    bias_hidden += np.sum(d_hidden, axis=0, keepdims=True) * learning_rate"
      ],
      "metadata": {
        "id": "CnPfj-PJcsZH"
      },
      "execution_count": null,
      "outputs": []
    },
    {
      "cell_type": "code",
      "execution_count": null,
      "metadata": {
        "id": "kpbJ013EcRDF"
      },
      "outputs": [],
      "source": [
        "hidden_layer_input = np.dot(X_test, weights_input_hidden) + bias_hidden\n",
        "hidden_layer_output = sigmoid(hidden_layer_input)"
      ]
    },
    {
      "cell_type": "code",
      "source": [
        "output_layer_input = np.dot(hidden_layer_output, weights_hidden_output) + bias_output\n",
        "output_layer_output = sigmoid(output_layer_input)"
      ],
      "metadata": {
        "id": "BCFa2Wu0dUVC"
      },
      "execution_count": null,
      "outputs": []
    },
    {
      "cell_type": "code",
      "source": [
        "predicted_class = np.argmax(output_layer_output, axis=1)\n",
        "true_class = np.argmax(y_test, axis=1)\n",
        "accuracy = np.mean(predicted_class == true_class)\n",
        "\n",
        "print(f'Test accuracy: {accuracy}')"
      ],
      "metadata": {
        "colab": {
          "base_uri": "https://localhost:8080/"
        },
        "id": "v6h2-Q11dQaW",
        "outputId": "2545cb34-e9a8-4570-d884-44c1c4da2fed"
      },
      "execution_count": null,
      "outputs": [
        {
          "output_type": "stream",
          "name": "stdout",
          "text": [
            "Test accuracy: 1.0\n"
          ]
        }
      ]
    },
    {
      "cell_type": "code",
      "source": [
        "import tensorflow as tf\n",
        "mnist = tf.keras.datasets.mnist"
      ],
      "metadata": {
        "id": "D8AXB9P7oziL"
      },
      "execution_count": null,
      "outputs": []
    },
    {
      "cell_type": "code",
      "source": [
        "mnist=tf.keras.datasets.mnist\n",
        "(x_train, y_train),(x_test, y_test) = mnist.load_data()\n",
        "x_train, x_test = x_train / 255.0, x_test / 255.0"
      ],
      "metadata": {
        "id": "Fc9vbJfNn4u5"
      },
      "execution_count": null,
      "outputs": []
    },
    {
      "cell_type": "code",
      "source": [
        "model=tf.keras.models.Sequential([\n",
        "    tf.keras.layers.Flatten(input_shape=(28,28)),\n",
        "    tf.keras.layers.Dense(128,activation='relu'),\n",
        "    tf.keras.layers.Dropout(0.2),\n",
        "    tf.keras.layers.Dense(10)\n",
        "])"
      ],
      "metadata": {
        "id": "fOMlARqMoEqv"
      },
      "execution_count": null,
      "outputs": []
    },
    {
      "cell_type": "code",
      "source": [
        "predictions = model(x_train[:1]).numpy()\n",
        "predictions"
      ],
      "metadata": {
        "colab": {
          "base_uri": "https://localhost:8080/"
        },
        "id": "54a7gnA5o6CP",
        "outputId": "eda6f0a3-9705-4bd9-e789-20d71a4c7af1"
      },
      "execution_count": null,
      "outputs": [
        {
          "output_type": "execute_result",
          "data": {
            "text/plain": [
              "array([[-0.05465262,  0.5440907 , -0.19764411, -0.55147064, -0.23254567,\n",
              "        -0.37139136, -0.46988702, -0.37282795,  0.18865328,  0.40118667]],\n",
              "      dtype=float32)"
            ]
          },
          "metadata": {},
          "execution_count": 80
        }
      ]
    },
    {
      "cell_type": "code",
      "source": [
        "tf.nn.softmax(predictions).numpy()"
      ],
      "metadata": {
        "colab": {
          "base_uri": "https://localhost:8080/"
        },
        "id": "nWKbWP3Ho8-I",
        "outputId": "a568f6f1-b3d4-44e7-b28e-1fe8bf500021"
      },
      "execution_count": null,
      "outputs": [
        {
          "output_type": "execute_result",
          "data": {
            "text/plain": [
              "array([[0.0989979 , 0.18015938, 0.08580756, 0.06023663, 0.0828644 ,\n",
              "        0.07212205, 0.06535697, 0.07201852, 0.12626773, 0.15616886]],\n",
              "      dtype=float32)"
            ]
          },
          "metadata": {},
          "execution_count": 81
        }
      ]
    },
    {
      "cell_type": "code",
      "source": [
        "loss_fn = tf.keras.losses.SparseCategoricalCrossentropy(from_logits=True)"
      ],
      "metadata": {
        "id": "vK49gIltpKcc"
      },
      "execution_count": null,
      "outputs": []
    },
    {
      "cell_type": "code",
      "source": [
        "loss_fn(y_train[:1], predictions).numpy()"
      ],
      "metadata": {
        "colab": {
          "base_uri": "https://localhost:8080/"
        },
        "id": "DxdSVaB1z-iR",
        "outputId": "f225723c-ae5a-464a-87cc-7604f0857e8d"
      },
      "execution_count": null,
      "outputs": [
        {
          "output_type": "execute_result",
          "data": {
            "text/plain": [
              "2.6293955"
            ]
          },
          "metadata": {},
          "execution_count": 83
        }
      ]
    },
    {
      "cell_type": "code",
      "source": [
        "model.compile(optimizer='adam',\n",
        "              loss=loss_fn,\n",
        "              metrics=['accuracy'])"
      ],
      "metadata": {
        "id": "_LViNZ-O0BUm"
      },
      "execution_count": null,
      "outputs": []
    },
    {
      "cell_type": "code",
      "source": [
        "model.fit(x_train, y_train, epochs=5)"
      ],
      "metadata": {
        "colab": {
          "base_uri": "https://localhost:8080/"
        },
        "id": "ugcl1Z5Y0Iep",
        "outputId": "23f2f85d-daa8-4581-ea0d-951a2a40936d"
      },
      "execution_count": null,
      "outputs": [
        {
          "output_type": "stream",
          "name": "stdout",
          "text": [
            "Epoch 1/5\n",
            "1875/1875 [==============================] - 9s 4ms/step - loss: 0.2929 - accuracy: 0.9168\n",
            "Epoch 2/5\n",
            "1875/1875 [==============================] - 6s 3ms/step - loss: 0.1425 - accuracy: 0.9571\n",
            "Epoch 3/5\n",
            "1875/1875 [==============================] - 8s 4ms/step - loss: 0.1042 - accuracy: 0.9684\n",
            "Epoch 4/5\n",
            "1875/1875 [==============================] - 7s 4ms/step - loss: 0.0849 - accuracy: 0.9733\n",
            "Epoch 5/5\n",
            "1875/1875 [==============================] - 8s 4ms/step - loss: 0.0751 - accuracy: 0.9762\n"
          ]
        },
        {
          "output_type": "execute_result",
          "data": {
            "text/plain": [
              "<keras.callbacks.History at 0x799f3277e2c0>"
            ]
          },
          "metadata": {},
          "execution_count": 85
        }
      ]
    },
    {
      "cell_type": "code",
      "source": [
        "model.evaluate(x_test,  y_test, verbose=2)"
      ],
      "metadata": {
        "colab": {
          "base_uri": "https://localhost:8080/"
        },
        "id": "GMzr3c8b0NW5",
        "outputId": "d248566e-8b56-42a0-aaff-16df00793e9c"
      },
      "execution_count": null,
      "outputs": [
        {
          "output_type": "stream",
          "name": "stdout",
          "text": [
            "313/313 - 1s - loss: 0.0735 - accuracy: 0.9776 - 614ms/epoch - 2ms/step\n"
          ]
        },
        {
          "output_type": "execute_result",
          "data": {
            "text/plain": [
              "[0.07349469512701035, 0.9775999784469604]"
            ]
          },
          "metadata": {},
          "execution_count": 86
        }
      ]
    }
  ]
}
